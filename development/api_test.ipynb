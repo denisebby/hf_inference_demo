{
 "cells": [
  {
   "cell_type": "markdown",
   "metadata": {},
   "source": [
    "# Import Packages"
   ]
  },
  {
   "cell_type": "code",
   "execution_count": 1,
   "metadata": {},
   "outputs": [],
   "source": [
    "import json\n",
    "import requests\n",
    "\n",
    "from dotenv import load_dotenv\n",
    "import os"
   ]
  },
  {
   "cell_type": "markdown",
   "metadata": {},
   "source": [
    "# Load in secrets"
   ]
  },
  {
   "cell_type": "code",
   "execution_count": 2,
   "metadata": {},
   "outputs": [
    {
     "data": {
      "text/plain": [
       "True"
      ]
     },
     "execution_count": 2,
     "metadata": {},
     "output_type": "execute_result"
    }
   ],
   "source": [
    "load_dotenv()"
   ]
  },
  {
   "cell_type": "markdown",
   "metadata": {},
   "source": [
    "# Access API"
   ]
  },
  {
   "cell_type": "code",
   "execution_count": 3,
   "metadata": {},
   "outputs": [],
   "source": [
    "headers = {\"Authorization\": f\"Bearer {os.getenv('HF_READ_API_TOKEN')}\"}\n",
    "API_URL = \"https://api-inference.huggingface.co/models/facebook/bart-large-cnn\"\n",
    "def query(payload):\n",
    "    data = json.dumps(payload)\n",
    "    response = requests.request(\"POST\", API_URL, headers=headers, data=data)\n",
    "    return json.loads(response.content.decode(\"utf-8\"))"
   ]
  },
  {
   "cell_type": "markdown",
   "metadata": {},
   "source": [
    "# Inference"
   ]
  },
  {
   "cell_type": "code",
   "execution_count": 4,
   "metadata": {},
   "outputs": [],
   "source": [
    "input_text = \"\"\"\\\n",
    "Mary Elizabeth Truss[8] was born on 26 July 1975 in Oxford, England,\\\n",
    "to John Truss and Priscilla Truss (née Grasby).[9][10][11] She is a\\\n",
    "descendant of Charles Truss, after whom Truss's Island on the River\\\n",
    "Thames is named. From an early age, she has been known by her middle name.\\\n",
    "Her father is an emeritus professor of pure mathematics at the University of Leeds,\\\n",
    "while her mother was a nurse and teacher.[15][16] Truss has described her parents\\ \n",
    "as being \"to the left of Labour\"; her mother was a member of the Campaign for\\\n",
    "Nuclear Disarmament.[16][17] Truss's parents divorced in 2003; at the 2004 Leeds City\\\n",
    "Council election, her mother unsuccessfully stood for election as a Liberal Democrat.\\\n",
    "\"\"\""
   ]
  },
  {
   "cell_type": "code",
   "execution_count": 5,
   "metadata": {},
   "outputs": [],
   "source": [
    "data = query(\n",
    "    {\n",
    "        \"inputs\": input_text,\n",
    "        \"parameters\": {\"do_sample\": False},\n",
    "    }\n",
    ")"
   ]
  },
  {
   "cell_type": "code",
   "execution_count": 6,
   "metadata": {},
   "outputs": [
    {
     "data": {
      "text/plain": [
       "[{'summary_text': \"Mary Elizabeth Truss was born on 26 July 1975 in Oxford, England. She is adescendant of Charles Truss, after whom Truss's Island on the RiverThames is named. Her father is an emeritus professor of pure mathematics at the University of Leeds,while her mother was a nurse and teacher.\"}]"
      ]
     },
     "execution_count": 6,
     "metadata": {},
     "output_type": "execute_result"
    }
   ],
   "source": [
    "data"
   ]
  }
 ],
 "metadata": {
  "kernelspec": {
   "display_name": "Python 3.8.13 ('dev1')",
   "language": "python",
   "name": "python3"
  },
  "language_info": {
   "codemirror_mode": {
    "name": "ipython",
    "version": 3
   },
   "file_extension": ".py",
   "mimetype": "text/x-python",
   "name": "python",
   "nbconvert_exporter": "python",
   "pygments_lexer": "ipython3",
   "version": "3.8.13"
  },
  "orig_nbformat": 4,
  "vscode": {
   "interpreter": {
    "hash": "b3385324871f6d9570f7620dc92242373aade45234876ddf4712f3af7383fe60"
   }
  }
 },
 "nbformat": 4,
 "nbformat_minor": 2
}
